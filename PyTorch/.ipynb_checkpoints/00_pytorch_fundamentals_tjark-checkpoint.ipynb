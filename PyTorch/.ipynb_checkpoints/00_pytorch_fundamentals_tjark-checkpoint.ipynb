{
 "cells": [
  {
   "cell_type": "markdown",
   "metadata": {},
   "source": [
    "## activate notebook \n",
    "$poetry run jupyter notebook"
   ]
  },
  {
   "cell_type": "code",
   "execution_count": 1,
   "metadata": {},
   "outputs": [
    {
     "name": "stdout",
     "output_type": "stream",
     "text": [
      "Mon Mar 27 16:05:36 2023       \n",
      "+-----------------------------------------------------------------------------+\n",
      "| NVIDIA-SMI 526.86       Driver Version: 526.86       CUDA Version: 12.0     |\n",
      "|-------------------------------+----------------------+----------------------+\n",
      "| GPU  Name            TCC/WDDM | Bus-Id        Disp.A | Volatile Uncorr. ECC |\n",
      "| Fan  Temp  Perf  Pwr:Usage/Cap|         Memory-Usage | GPU-Util  Compute M. |\n",
      "|                               |                      |               MIG M. |\n",
      "|===============================+======================+======================|\n",
      "|   0  NVIDIA GeForce ... WDDM  | 00000000:01:00.0 Off |                  N/A |\n",
      "| N/A   44C    P8     6W /  N/A |    237MiB /  4096MiB |     40%      Default |\n",
      "|                               |                      |                  N/A |\n",
      "+-------------------------------+----------------------+----------------------+\n",
      "                                                                               \n",
      "+-----------------------------------------------------------------------------+\n",
      "| Processes:                                                                  |\n",
      "|  GPU   GI   CI        PID   Type   Process name                  GPU Memory |\n",
      "|        ID   ID                                                   Usage      |\n",
      "|=============================================================================|\n",
      "|    0   N/A  N/A     21128    C+G   ...ser\\Application\\brave.exe    N/A      |\n",
      "+-----------------------------------------------------------------------------+\n"
     ]
    }
   ],
   "source": [
    "!nvidia-smi\n"
   ]
  },
  {
   "cell_type": "code",
   "execution_count": 8,
   "metadata": {},
   "outputs": [
    {
     "name": "stdout",
     "output_type": "stream",
     "text": [
      "\n",
      "Automagic is ON, % prefix IS NOT needed for line magics.\n"
     ]
    }
   ],
   "source": [
    "%automagic = True"
   ]
  },
  {
   "cell_type": "code",
   "execution_count": 4,
   "metadata": {},
   "outputs": [
    {
     "name": "stdout",
     "output_type": "stream",
     "text": [
      "2.0.0+cu118\n"
     ]
    }
   ],
   "source": [
    "## 00. PyTorch Fundamentals\n",
    "''' Link: https://www.learnpytorch.io/00_pytorch_fundamentals/ '''\n",
    "\n",
    "import torch\n",
    "import pandas as np\n",
    "import numpy as np\n",
    "import matplotlib.pyplot as plt\n",
    "print(torch.__version__)\n"
   ]
  },
  {
   "cell_type": "code",
   "execution_count": 17,
   "metadata": {},
   "outputs": [
    {
     "name": "stdout",
     "output_type": "stream",
     "text": [
      "tensor(7)\n",
      "<class 'torch.Tensor'>\n"
     ]
    },
    {
     "data": {
      "text/plain": [
       "7"
      ]
     },
     "execution_count": 17,
     "metadata": {},
     "output_type": "execute_result"
    }
   ],
   "source": [
    "## Introduction to Tensors\n",
    "### Creating a Tensor for numeric multidimensional data\n",
    "\n",
    "# Scalar\n",
    "scalar = torch.tensor(7)\n",
    "print(scalar)#\n",
    "print(type(scalar))\n",
    "scalar.ndim\n",
    "# Get tesnor vack as PYthon int\n",
    "scalar.item()\n"
   ]
  },
  {
   "cell_type": "code",
   "execution_count": 31,
   "metadata": {},
   "outputs": [
    {
     "name": "stdout",
     "output_type": "stream",
     "text": [
      "<class 'torch.Tensor'>\n"
     ]
    }
   ],
   "source": [
    "# Vector ( Manetude, Direction)\n",
    "vector = torch.tensor([7,7])\n",
    "'''squared brakets are each paar for 1 dimension'''\n",
    "vector.ndim\n",
    "print(type(vector))\n"
   ]
  },
  {
   "cell_type": "code",
   "execution_count": 29,
   "metadata": {},
   "outputs": [
    {
     "name": "stdout",
     "output_type": "stream",
     "text": [
      "2\n",
      "torch.Size([2, 2])\n"
     ]
    }
   ],
   "source": [
    "## Matrix\n",
    "matrix = torch.tensor([[1,1],\n",
    "                      [2,2]])\n",
    "print(matrix.ndim)\n",
    "matrix[1]\n",
    "matrix[0]\n",
    "print(matrix.shape)"
   ]
  },
  {
   "cell_type": "code",
   "execution_count": 36,
   "metadata": {},
   "outputs": [
    {
     "data": {
      "text/plain": [
       "torch.Size([1, 3, 3])"
      ]
     },
     "execution_count": 36,
     "metadata": {},
     "output_type": "execute_result"
    }
   ],
   "source": [
    "# Tensor\n",
    "tensor = torch.tensor([[[1,2,3],\n",
    "                        [4,5,6],\n",
    "                        [7,8,9]]])\n",
    "tensor.ndim\n",
    "tensor.shape"
   ]
  },
  {
   "cell_type": "code",
   "execution_count": 39,
   "metadata": {},
   "outputs": [
    {
     "data": {
      "text/plain": [
       "tensor([[1, 2, 3],\n",
       "        [4, 5, 6],\n",
       "        [7, 8, 9]])"
      ]
     },
     "execution_count": 39,
     "metadata": {},
     "output_type": "execute_result"
    }
   ],
   "source": [
    "tensor[0]"
   ]
  },
  {
   "cell_type": "code",
   "execution_count": 44,
   "metadata": {},
   "outputs": [
    {
     "name": "stdout",
     "output_type": "stream",
     "text": [
      "tensor(5)\n",
      "tensor(8)\n"
     ]
    }
   ],
   "source": [
    "print(tensor[0,1,1])\n",
    "print(tensor[0,2,1])"
   ]
  },
  {
   "cell_type": "code",
   "execution_count": 47,
   "metadata": {},
   "outputs": [
    {
     "name": "stdout",
     "output_type": "stream",
     "text": [
      "tensor(5)\n"
     ]
    }
   ],
   "source": [
    "print(tensor[0,1,1])"
   ]
  },
  {
   "cell_type": "markdown",
   "metadata": {},
   "source": [
    "### Random tensors\n",
    "# Create random tensor of size ( shape ) (3,4)\n",
    "\n",
    "random_tensor = torch.rand(1,3,4)\n",
    "#print(random_tensor)\n",
    "random_tensor.ndim"
   ]
  },
  {
   "cell_type": "code",
   "execution_count": 57,
   "metadata": {},
   "outputs": [
    {
     "data": {
      "text/plain": [
       "(torch.Size([224, 224, 3]), 3)"
      ]
     },
     "execution_count": 57,
     "metadata": {},
     "output_type": "execute_result"
    }
   ],
   "source": [
    "random_image_size_tensor = torch.rand(size=(224,224,3)) # heigth, with,color channel\n",
    "random_image_size_tensor.shape,random_image_size_tensor.ndim"
   ]
  },
  {
   "cell_type": "code",
   "execution_count": 59,
   "metadata": {},
   "outputs": [
    {
     "data": {
      "text/plain": [
       "tensor([[[0.9273, 0.6790, 0.5009],\n",
       "         [0.1103, 0.6695, 0.9130],\n",
       "         [0.6138, 0.8294, 0.2133],\n",
       "         ...,\n",
       "         [0.7595, 0.7815, 0.2194],\n",
       "         [0.3342, 0.3676, 0.5117],\n",
       "         [0.2170, 0.9495, 0.6973]],\n",
       "\n",
       "        [[0.9712, 0.0430, 0.4753],\n",
       "         [0.1632, 0.3652, 0.5446],\n",
       "         [0.8565, 0.4716, 0.8285],\n",
       "         ...,\n",
       "         [0.2734, 0.7532, 0.2730],\n",
       "         [0.5025, 0.7168, 0.9101],\n",
       "         [0.5119, 0.4377, 0.9371]],\n",
       "\n",
       "        [[0.8491, 0.9676, 0.1033],\n",
       "         [0.8590, 0.9355, 0.5566],\n",
       "         [0.9696, 0.0967, 0.3457],\n",
       "         ...,\n",
       "         [0.1682, 0.8285, 0.1989],\n",
       "         [0.8249, 0.9393, 0.1917],\n",
       "         [0.7704, 0.0722, 0.7276]],\n",
       "\n",
       "        ...,\n",
       "\n",
       "        [[0.2263, 0.3660, 0.1471],\n",
       "         [0.2131, 0.9437, 0.0071],\n",
       "         [0.1366, 0.6781, 0.5076],\n",
       "         ...,\n",
       "         [0.3742, 0.0549, 0.5672],\n",
       "         [0.4319, 0.9552, 0.0793],\n",
       "         [0.2440, 0.8866, 0.4878]],\n",
       "\n",
       "        [[0.5385, 0.7677, 0.9278],\n",
       "         [0.5449, 0.3663, 0.2179],\n",
       "         [0.1907, 0.7231, 0.9370],\n",
       "         ...,\n",
       "         [0.9227, 0.1806, 0.9854],\n",
       "         [0.0704, 0.1715, 0.6647],\n",
       "         [0.4713, 0.9644, 0.3464]],\n",
       "\n",
       "        [[0.4852, 0.3781, 0.4041],\n",
       "         [0.2122, 0.9110, 0.8644],\n",
       "         [0.1244, 0.7049, 0.1398],\n",
       "         ...,\n",
       "         [0.6301, 0.9941, 0.8918],\n",
       "         [0.0666, 0.1474, 0.9924],\n",
       "         [0.7383, 0.8611, 0.6648]]])"
      ]
     },
     "execution_count": 59,
     "metadata": {},
     "output_type": "execute_result"
    }
   ],
   "source": [
    "torch.rand((224,224,3))"
   ]
  },
  {
   "cell_type": "code",
   "execution_count": 75,
   "metadata": {},
   "outputs": [
    {
     "name": "stdout",
     "output_type": "stream",
     "text": [
      "tensor([[[0., 0., 0., 0.],\n",
      "         [0., 0., 0., 0.],\n",
      "         [0., 0., 0., 0.]]])\n"
     ]
    },
    {
     "data": {
      "text/plain": [
       "torch.Size([1, 3, 4])"
      ]
     },
     "execution_count": 75,
     "metadata": {},
     "output_type": "execute_result"
    }
   ],
   "source": [
    "zero =torch.zeros(size =(1,3,4))\n",
    "print(zero)\n",
    "zero.shape"
   ]
  },
  {
   "cell_type": "code",
   "execution_count": 83,
   "metadata": {},
   "outputs": [
    {
     "name": "stdout",
     "output_type": "stream",
     "text": [
      "tensor([[[1., 1., 1., 1.],\n",
      "         [1., 1., 1., 1.],\n",
      "         [1., 1., 1., 1.]]])\n"
     ]
    },
    {
     "data": {
      "text/plain": [
       "torch.Tensor"
      ]
     },
     "execution_count": 83,
     "metadata": {},
     "output_type": "execute_result"
    }
   ],
   "source": [
    "ones = torch.ones(size=(1,3,4))\n",
    "print(ones)\n",
    "ones.dtype\n",
    "type(ones)"
   ]
  },
  {
   "cell_type": "code",
   "execution_count": 86,
   "metadata": {},
   "outputs": [
    {
     "name": "stderr",
     "output_type": "stream",
     "text": [
      "C:\\Users\\color\\AppData\\Local\\Temp\\ipykernel_11920\\3609429830.py:2: UserWarning: torch.range is deprecated and will be removed in a future release because its behavior is inconsistent with Python's range builtin. Instead, use torch.arange, which produces values in [start, end).\n",
      "  torch.range(1,10)\n"
     ]
    },
    {
     "data": {
      "text/plain": [
       "tensor([ 1.,  2.,  3.,  4.,  5.,  6.,  7.,  8.,  9., 10.])"
      ]
     },
     "execution_count": 86,
     "metadata": {},
     "output_type": "execute_result"
    }
   ],
   "source": [
    "# creating range \n",
    "torch.range(1,10)"
   ]
  },
  {
   "cell_type": "code",
   "execution_count": 95,
   "metadata": {},
   "outputs": [
    {
     "data": {
      "text/plain": [
       "tensor([2])"
      ]
     },
     "execution_count": 95,
     "metadata": {},
     "output_type": "execute_result"
    }
   ],
   "source": [
    "one_to_ten = torch.arange(start=2, end=10, step=77)\n",
    "\n",
    "one_to_ten"
   ]
  },
  {
   "cell_type": "code",
   "execution_count": null,
   "metadata": {},
   "outputs": [],
   "source": []
  }
 ],
 "metadata": {
  "kernelspec": {
   "display_name": "Python 3 (ipykernel)",
   "language": "python",
   "name": "python3"
  },
  "language_info": {
   "codemirror_mode": {
    "name": "ipython",
    "version": 3
   },
   "file_extension": ".py",
   "mimetype": "text/x-python",
   "name": "python",
   "nbconvert_exporter": "python",
   "pygments_lexer": "ipython3",
   "version": "3.10.4"
  }
 },
 "nbformat": 4,
 "nbformat_minor": 2
}
